{
 "cells": [
  {
   "cell_type": "markdown",
   "metadata": {},
   "source": [
    "### Objective"
   ]
  },
  {
   "cell_type": "markdown",
   "metadata": {},
   "source": [
    "The goal here is to predict the Price of an Old car based on the variables provided in the data set."
   ]
  },
  {
   "cell_type": "code",
   "execution_count": 22,
   "metadata": {},
   "outputs": [],
   "source": [
    "# let's import necessary libraries\n",
    "\n",
    "import numpy as np\n",
    "import pandas as pd\n",
    "import matplotlib.pyplot as plt\n",
    "import seaborn as sns\n",
    "\n",
    "%config InlineBackend.figureFormat='retina'\n",
    "sns.set(font_scale=1.5)"
   ]
  },
  {
   "cell_type": "code",
   "execution_count": 2,
   "metadata": {},
   "outputs": [],
   "source": [
    "# load the dataset\n",
    "car_data = pd.read_csv(r'Training Data Set.csv')\n",
    "car_data1 = car_data.copy()\n",
    "car_data2 = car_data.copy()"
   ]
  },
  {
   "cell_type": "code",
   "execution_count": 4,
   "metadata": {
    "scrolled": true
   },
   "outputs": [
    {
     "name": "stdout",
     "output_type": "stream",
     "text": [
      "<class 'pandas.core.frame.DataFrame'>\n",
      "RangeIndex: 53515 entries, 0 to 53514\n",
      "Data columns (total 17 columns):\n",
      "Id                     53515 non-null int64\n",
      "Maker                  53515 non-null object\n",
      "model                  53515 non-null object\n",
      "Location               53515 non-null object\n",
      "Distance               52304 non-null float64\n",
      "Owner Type             53515 non-null object\n",
      "manufacture_year       53515 non-null int64\n",
      "Age of car             53515 non-null int64\n",
      "engine_displacement    53515 non-null int64\n",
      "engine_power           52076 non-null float64\n",
      "body_type              4136 non-null object\n",
      "Vroom Audit Rating     53515 non-null int64\n",
      "transmission           53515 non-null object\n",
      "door_count             53515 non-null object\n",
      "seat_count             53515 non-null object\n",
      "fuel_type              53515 non-null object\n",
      "Price                  53515 non-null float64\n",
      "dtypes: float64(3), int64(5), object(9)\n",
      "memory usage: 6.9+ MB\n"
     ]
    }
   ],
   "source": [
    "car_data1.info()"
   ]
  },
  {
   "cell_type": "markdown",
   "metadata": {},
   "source": [
    "The dataset contains 17 features and 53515 records."
   ]
  },
  {
   "cell_type": "code",
   "execution_count": 5,
   "metadata": {},
   "outputs": [
    {
     "data": {
      "text/html": [
       "<div>\n",
       "<style scoped>\n",
       "    .dataframe tbody tr th:only-of-type {\n",
       "        vertical-align: middle;\n",
       "    }\n",
       "\n",
       "    .dataframe tbody tr th {\n",
       "        vertical-align: top;\n",
       "    }\n",
       "\n",
       "    .dataframe thead th {\n",
       "        text-align: right;\n",
       "    }\n",
       "</style>\n",
       "<table border=\"1\" class=\"dataframe\">\n",
       "  <thead>\n",
       "    <tr style=\"text-align: right;\">\n",
       "      <th></th>\n",
       "      <th>Id</th>\n",
       "      <th>Maker</th>\n",
       "      <th>model</th>\n",
       "      <th>Location</th>\n",
       "      <th>Distance</th>\n",
       "      <th>Owner Type</th>\n",
       "      <th>manufacture_year</th>\n",
       "      <th>Age of car</th>\n",
       "      <th>engine_displacement</th>\n",
       "      <th>engine_power</th>\n",
       "      <th>body_type</th>\n",
       "      <th>Vroom Audit Rating</th>\n",
       "      <th>transmission</th>\n",
       "      <th>door_count</th>\n",
       "      <th>seat_count</th>\n",
       "      <th>fuel_type</th>\n",
       "      <th>Price</th>\n",
       "    </tr>\n",
       "  </thead>\n",
       "  <tbody>\n",
       "    <tr>\n",
       "      <th>0</th>\n",
       "      <td>25001</td>\n",
       "      <td>skoda</td>\n",
       "      <td>octavia</td>\n",
       "      <td>Ahmedabad</td>\n",
       "      <td>NaN</td>\n",
       "      <td>Second</td>\n",
       "      <td>1964</td>\n",
       "      <td>55</td>\n",
       "      <td>1964</td>\n",
       "      <td>147.0</td>\n",
       "      <td>compact</td>\n",
       "      <td>8</td>\n",
       "      <td>man</td>\n",
       "      <td>None</td>\n",
       "      <td>None</td>\n",
       "      <td>petrol</td>\n",
       "      <td>543764.25</td>\n",
       "    </tr>\n",
       "    <tr>\n",
       "      <th>1</th>\n",
       "      <td>25002</td>\n",
       "      <td>fiat</td>\n",
       "      <td>panda</td>\n",
       "      <td>Ahmedabad</td>\n",
       "      <td>27750.0</td>\n",
       "      <td>Third</td>\n",
       "      <td>2012</td>\n",
       "      <td>7</td>\n",
       "      <td>1242</td>\n",
       "      <td>51.0</td>\n",
       "      <td>NaN</td>\n",
       "      <td>6</td>\n",
       "      <td>man</td>\n",
       "      <td>4</td>\n",
       "      <td>4</td>\n",
       "      <td>petrol</td>\n",
       "      <td>401819.25</td>\n",
       "    </tr>\n",
       "    <tr>\n",
       "      <th>2</th>\n",
       "      <td>25003</td>\n",
       "      <td>bmw</td>\n",
       "      <td>x1</td>\n",
       "      <td>Hyderabad</td>\n",
       "      <td>46000.0</td>\n",
       "      <td>Third</td>\n",
       "      <td>2014</td>\n",
       "      <td>5</td>\n",
       "      <td>1995</td>\n",
       "      <td>105.0</td>\n",
       "      <td>NaN</td>\n",
       "      <td>7</td>\n",
       "      <td>auto</td>\n",
       "      <td>4</td>\n",
       "      <td>5</td>\n",
       "      <td>diesel</td>\n",
       "      <td>2392855.50</td>\n",
       "    </tr>\n",
       "    <tr>\n",
       "      <th>3</th>\n",
       "      <td>25004</td>\n",
       "      <td>nissan</td>\n",
       "      <td>juke</td>\n",
       "      <td>Mumbai</td>\n",
       "      <td>43949.0</td>\n",
       "      <td>Third</td>\n",
       "      <td>2011</td>\n",
       "      <td>8</td>\n",
       "      <td>1618</td>\n",
       "      <td>140.0</td>\n",
       "      <td>NaN</td>\n",
       "      <td>7</td>\n",
       "      <td>man</td>\n",
       "      <td>4</td>\n",
       "      <td>5</td>\n",
       "      <td>petrol</td>\n",
       "      <td>958606.50</td>\n",
       "    </tr>\n",
       "    <tr>\n",
       "      <th>4</th>\n",
       "      <td>25005</td>\n",
       "      <td>bmw</td>\n",
       "      <td>x5</td>\n",
       "      <td>Jaipur</td>\n",
       "      <td>59524.0</td>\n",
       "      <td>Fourth &amp; Above</td>\n",
       "      <td>2012</td>\n",
       "      <td>7</td>\n",
       "      <td>2993</td>\n",
       "      <td>180.0</td>\n",
       "      <td>NaN</td>\n",
       "      <td>7</td>\n",
       "      <td>auto</td>\n",
       "      <td>4</td>\n",
       "      <td>5</td>\n",
       "      <td>diesel</td>\n",
       "      <td>3085561.50</td>\n",
       "    </tr>\n",
       "  </tbody>\n",
       "</table>\n",
       "</div>"
      ],
      "text/plain": [
       "      Id   Maker    model   Location  Distance       Owner Type  \\\n",
       "0  25001   skoda  octavia  Ahmedabad        NaN          Second   \n",
       "1  25002    fiat    panda  Ahmedabad    27750.0           Third   \n",
       "2  25003     bmw       x1  Hyderabad    46000.0           Third   \n",
       "3  25004  nissan     juke     Mumbai    43949.0           Third   \n",
       "4  25005     bmw       x5     Jaipur    59524.0  Fourth & Above   \n",
       "\n",
       "   manufacture_year  Age of car  engine_displacement  engine_power body_type  \\\n",
       "0              1964          55                 1964         147.0   compact   \n",
       "1              2012           7                 1242          51.0       NaN   \n",
       "2              2014           5                 1995         105.0       NaN   \n",
       "3              2011           8                 1618         140.0       NaN   \n",
       "4              2012           7                 2993         180.0       NaN   \n",
       "\n",
       "   Vroom Audit Rating transmission door_count seat_count fuel_type       Price  \n",
       "0                   8          man       None       None    petrol   543764.25  \n",
       "1                   6          man          4          4    petrol   401819.25  \n",
       "2                   7         auto          4          5    diesel  2392855.50  \n",
       "3                   7          man          4          5    petrol   958606.50  \n",
       "4                   7         auto          4          5    diesel  3085561.50  "
      ]
     },
     "execution_count": 5,
     "metadata": {},
     "output_type": "execute_result"
    }
   ],
   "source": [
    "car_data1.head()"
   ]
  },
  {
   "cell_type": "markdown",
   "metadata": {},
   "source": [
    "### Attribute Information"
   ]
  },
  {
   "cell_type": "markdown",
   "metadata": {},
   "source": [
    "**Dependent variables**:       \n",
    "\n",
    "    Id                    \n",
    "    Maker                 \n",
    "    model                 \n",
    "    Location              \n",
    "    Distance              \n",
    "    Owner Type            \n",
    "    manufacture_year      \n",
    "    Age of car            \n",
    "    engine_displacement   \n",
    "    engine_power          \n",
    "    body_type             \n",
    "    Vroom Audit Rating    \n",
    "    transmission          \n",
    "    door_count            \n",
    "    seat_count            \n",
    "    fuel_type             \n",
    "    Price                           \n",
    "\n",
    "**Target variable**:               \n",
    "\n",
    "    Price - price estimate for the ride in USD"
   ]
  },
  {
   "cell_type": "markdown",
   "metadata": {},
   "source": [
    "### Data Type      \n",
    "**Category**\n",
    "\n",
    "    - Maker\n",
    "    - Model\n",
    "    - Location\n",
    "    - Owner Type\n",
    "    - Manufacture year\n",
    "    - Body type\n",
    "    - transmission           \n",
    "    - door_count             \n",
    "    - seat_count             \n",
    "    - fuel_type      \n",
    "    - vroom audit rating\n",
    "    \n",
    "**Continuous**       \n",
    "    - Distance\n",
    "    - Engine displacement\n",
    "    - Engine power\n",
    "    - price\n"
   ]
  },
  {
   "cell_type": "markdown",
   "metadata": {},
   "source": [
    "### Exploratory Data Analysis"
   ]
  },
  {
   "cell_type": "markdown",
   "metadata": {},
   "source": [
    "#### Univariate analysis"
   ]
  },
  {
   "cell_type": "markdown",
   "metadata": {},
   "source": [
    "**Continuous**"
   ]
  },
  {
   "cell_type": "markdown",
   "metadata": {},
   "source": [
    "**Distance**"
   ]
  },
  {
   "cell_type": "code",
   "execution_count": 9,
   "metadata": {},
   "outputs": [
    {
     "data": {
      "text/plain": [
       "count    5.230400e+04\n",
       "mean     9.454626e+04\n",
       "std      2.755617e+05\n",
       "min      0.000000e+00\n",
       "25%      1.549000e+04\n",
       "50%      6.552000e+04\n",
       "75%      1.356410e+05\n",
       "max      9.899800e+06\n",
       "Name: Distance , dtype: float64"
      ]
     },
     "execution_count": 9,
     "metadata": {},
     "output_type": "execute_result"
    }
   ],
   "source": [
    "car_data['Distance '].describe()"
   ]
  },
  {
   "cell_type": "code",
   "execution_count": 13,
   "metadata": {},
   "outputs": [],
   "source": [
    "def calculate_mop(df, col):\n",
    "    \"\"\" function to calculate and display the measures of dispersion.\"\"\"\n",
    "#     print(name, '\\n')\n",
    "    print(f'Standard deviation:     {df[col].std()}')\n",
    "    print(f'Skewness:               {df[col].skew()}')\n",
    "    print(f'Kurtosis:               {df[col].kurtosis()}\\n')"
   ]
  },
  {
   "cell_type": "code",
   "execution_count": 14,
   "metadata": {},
   "outputs": [
    {
     "name": "stdout",
     "output_type": "stream",
     "text": [
      "Standard deviation:     275561.716140559\n",
      "Skewness:               23.336008239396925\n",
      "Kurtosis:               632.9987196482938\n",
      "\n"
     ]
    }
   ],
   "source": [
    "calculate_mop(car_data, 'Distance ')"
   ]
  },
  {
   "cell_type": "code",
   "execution_count": 23,
   "metadata": {},
   "outputs": [
    {
     "data": {
      "text/plain": [
       "Text(0.5, 1.0, 'Distribution of distance')"
      ]
     },
     "execution_count": 23,
     "metadata": {},
     "output_type": "execute_result"
    },
    {
     "data": {
      "image/png": "[encoded data removed]",
      "text/plain": [
       "<Figure size 720x504 with 1 Axes>"
      ]
     },
     "metadata": {},
     "output_type": "display_data"
    }
   ],
   "source": [
    "plt.figure(figsize=(10, 7))\n",
    "sns.distplot(car_data[~car_data['Distance '].isnull()]['Distance '], kde=True)\n",
    "plt.title('Distribution of distance', fontsize=20)"
   ]
  },
  {
   "cell_type": "markdown",
   "metadata": {},
   "source": [
    "**Engine Displacement**"
   ]
  },
  {
   "cell_type": "code",
   "execution_count": 24,
   "metadata": {},
   "outputs": [
    {
     "data": {
      "text/plain": [
       "count    53515.000000\n",
       "mean      1904.049014\n",
       "std       1496.564596\n",
       "min         14.000000\n",
       "25%       1395.000000\n",
       "50%       1896.000000\n",
       "75%       1995.000000\n",
       "max      32000.000000\n",
       "Name: engine_displacement, dtype: float64"
      ]
     },
     "execution_count": 24,
     "metadata": {},
     "output_type": "execute_result"
    }
   ],
   "source": [
    "car_data['engine_displacement'].describe()"
   ]
  },
  {
   "cell_type": "code",
   "execution_count": 25,
   "metadata": {},
   "outputs": [
    {
     "name": "stdout",
     "output_type": "stream",
     "text": [
      "Standard deviation:     1496.564596331696\n",
      "Skewness:               12.730459629497304\n",
      "Kurtosis:               210.66061063421748\n",
      "\n"
     ]
    }
   ],
   "source": [
    "calculate_mop(car_data, 'engine_displacement')"
   ]
  },
  {
   "cell_type": "code",
   "execution_count": 26,
   "metadata": {},
   "outputs": [
    {
     "data": {
      "text/plain": [
       "Text(0.5, 1.0, 'Distribution of engine displacement')"
      ]
     },
     "execution_count": 26,
     "metadata": {},
     "output_type": "execute_result"
    },
    {
     "data": {
      "image/png": "[encoded data removed]",
      "text/plain": [
       "<Figure size 720x504 with 1 Axes>"
      ]
     },
     "metadata": {},
     "output_type": "display_data"
    }
   ],
   "source": [
    "plt.figure(figsize=(10, 7))\n",
    "sns.distplot(car_data['engine_displacement'], kde=True)\n",
    "plt.title('Distribution of engine displacement', fontsize=20)"
   ]
  },
  {
   "cell_type": "markdown",
   "metadata": {},
   "source": [
    "**Engine Power**"
   ]
  },
  {
   "cell_type": "code",
   "execution_count": 27,
   "metadata": {},
   "outputs": [
    {
     "data": {
      "text/plain": [
       "count    52076.000000\n",
       "mean       100.448345\n",
       "std         45.330622\n",
       "min         10.000000\n",
       "25%         73.000000\n",
       "50%         91.000000\n",
       "75%        125.000000\n",
       "max        896.000000\n",
       "Name: engine_power, dtype: float64"
      ]
     },
     "execution_count": 27,
     "metadata": {},
     "output_type": "execute_result"
    }
   ],
   "source": [
    "car_data['engine_power'].describe()"
   ]
  },
  {
   "cell_type": "code",
   "execution_count": 28,
   "metadata": {},
   "outputs": [
    {
     "name": "stdout",
     "output_type": "stream",
     "text": [
      "Standard deviation:     45.33062200494428\n",
      "Skewness:               1.7534979459062008\n",
      "Kurtosis:               8.248068019999575\n",
      "\n"
     ]
    }
   ],
   "source": [
    "calculate_mop(car_data, 'engine_power')"
   ]
  },
  {
   "cell_type": "code",
   "execution_count": 31,
   "metadata": {},
   "outputs": [
    {
     "data": {
      "text/plain": [
       "Text(0.5, 1.0, 'Distribution of Engine power')"
      ]
     },
     "execution_count": 31,
     "metadata": {},
     "output_type": "execute_result"
    },
    {
     "data": {
      "image/png": "[encoded data removed]",
      "text/plain": [
       "<Figure size 720x504 with 1 Axes>"
      ]
     },
     "metadata": {},
     "output_type": "display_data"
    }
   ],
   "source": [
    "plt.figure(figsize=(10, 7))\n",
    "sns.distplot(car_data[~car_data['engine_power'].isnull()]['engine_power'], kde=True)\n",
    "plt.title('Distribution of Engine power', fontsize=20)"
   ]
  },
  {
   "cell_type": "markdown",
   "metadata": {},
   "source": [
    "**Price**"
   ]
  },
  {
   "cell_type": "code",
   "execution_count": 33,
   "metadata": {},
   "outputs": [
    {
     "data": {
      "text/plain": [
       "count    5.351500e+04\n",
       "mean     1.098084e+06\n",
       "std      8.441565e+05\n",
       "min      3.000000e+00\n",
       "25%      5.051812e+05\n",
       "50%      8.854552e+05\n",
       "75%      1.477829e+06\n",
       "max      2.212078e+07\n",
       "Name: Price, dtype: float64"
      ]
     },
     "execution_count": 33,
     "metadata": {},
     "output_type": "execute_result"
    }
   ],
   "source": [
    "car_data['Price'].describe()"
   ]
  },
  {
   "cell_type": "code",
   "execution_count": 34,
   "metadata": {},
   "outputs": [
    {
     "name": "stdout",
     "output_type": "stream",
     "text": [
      "Standard deviation:     844156.5307291836\n",
      "Skewness:               2.179996513287749\n",
      "Kurtosis:               14.845862494473211\n",
      "\n"
     ]
    }
   ],
   "source": [
    "calculate_mop(car_data, 'Price')"
   ]
  },
  {
   "cell_type": "code",
   "execution_count": 36,
   "metadata": {},
   "outputs": [
    {
     "data": {
      "text/plain": [
       "Text(0.5, 1.0, 'Distribution of Price')"
      ]
     },
     "execution_count": 36,
     "metadata": {},
     "output_type": "execute_result"
    },
    {
     "data": {
      "image/png": "[encoded data removed]",
      "text/plain": [
       "<Figure size 720x504 with 1 Axes>"
      ]
     },
     "metadata": {},
     "output_type": "display_data"
    }
   ],
   "source": [
    "plt.figure(figsize=(10, 7))\n",
    "sns.distplot(car_data['Price'], kde=True)\n",
    "plt.title('Distribution of Price', fontsize=20)"
   ]
  },
  {
   "cell_type": "markdown",
   "metadata": {},
   "source": [
    "    - Maker\n",
    "    - Model\n",
    "    - Location\n",
    "    - Owner Type\n",
    "    - Manufacture year\n",
    "    - Body type\n",
    "    - transmission           \n",
    "    - door_count             \n",
    "    - seat_count             \n",
    "    - fuel_type      \n",
    "    - vroom audit rating"
   ]
  },
  {
   "cell_type": "markdown",
   "metadata": {},
   "source": [
    "**Categorical variables**"
   ]
  },
  {
   "cell_type": "markdown",
   "metadata": {},
   "source": [
    "**Maker**"
   ]
  },
  {
   "cell_type": "code",
   "execution_count": 37,
   "metadata": {},
   "outputs": [
    {
     "data": {
      "text/plain": [
       "skoda       21563\n",
       "toyota       7840\n",
       "audi         7326\n",
       "bmw          7178\n",
       "nissan       5485\n",
       "hyundai      2240\n",
       "fiat         1845\n",
       "maserati       38\n",
       "Name: Maker, dtype: int64"
      ]
     },
     "execution_count": 37,
     "metadata": {},
     "output_type": "execute_result"
    }
   ],
   "source": [
    "car_data['Maker'].value_counts()"
   ]
  },
  {
   "cell_type": "code",
   "execution_count": 38,
   "metadata": {},
   "outputs": [
    {
     "data": {
      "text/plain": [
       "skoda       0.402934\n",
       "toyota      0.146501\n",
       "audi        0.136896\n",
       "bmw         0.134131\n",
       "nissan      0.102495\n",
       "hyundai     0.041857\n",
       "fiat        0.034476\n",
       "maserati    0.000710\n",
       "Name: Maker, dtype: float64"
      ]
     },
     "execution_count": 38,
     "metadata": {},
     "output_type": "execute_result"
    }
   ],
   "source": [
    "car_data['Maker'].value_counts(normalize=True)"
   ]
  },
  {
   "cell_type": "code",
   "execution_count": 39,
   "metadata": {},
   "outputs": [
    {
     "data": {
      "text/plain": [
       "Text(0.5, 1.0, 'Frequency of Car Maker')"
      ]
     },
     "execution_count": 39,
     "metadata": {},
     "output_type": "execute_result"
    },
    {
     "data": {
      "image/png": "[encoded data removed]",
      "text/plain": [
       "<Figure size 576x360 with 1 Axes>"
      ]
     },
     "metadata": {},
     "output_type": "display_data"
    }
   ],
   "source": [
    "plt.figure(figsize=(8,5))\n",
    "sns.countplot('Maker', data=car_data)\n",
    "plt.title('Frequency of Car Maker', fontsize=15)"
   ]
  },
  {
   "cell_type": "markdown",
   "metadata": {},
   "source": [
    "We could see that 40% of the data is for the model 'Skoda' and very few data for the car model 'Maserati'"
   ]
  },
  {
   "cell_type": "markdown",
   "metadata": {},
   "source": [
    "**Model**"
   ]
  },
  {
   "cell_type": "code",
   "execution_count": 40,
   "metadata": {},
   "outputs": [
    {
     "data": {
      "text/plain": [
       "octavia     12619\n",
       "superb       3195\n",
       "yaris        3176\n",
       "qashqai      2854\n",
       "x3           2779\n",
       "x1           2420\n",
       "i30          2047\n",
       "q5           2039\n",
       "x5           1979\n",
       "yeti         1898\n",
       "panda        1769\n",
       "q3           1736\n",
       "coupe        1710\n",
       "micra        1676\n",
       "auris        1666\n",
       "avensis      1512\n",
       "aygo         1486\n",
       "rapid        1409\n",
       "roomster     1322\n",
       "q7           1245\n",
       "citigo       1120\n",
       "juke          955\n",
       "tt            903\n",
       "Name: model, dtype: int64"
      ]
     },
     "execution_count": 40,
     "metadata": {},
     "output_type": "execute_result"
    }
   ],
   "source": [
    "car_data['model'].value_counts()"
   ]
  },
  {
   "cell_type": "code",
   "execution_count": 44,
   "metadata": {},
   "outputs": [
    {
     "name": "stdout",
     "output_type": "stream",
     "text": [
      "There are totally 23 unique car models in our data\n"
     ]
    }
   ],
   "source": [
    "un_car = car_data['model'].nunique()\n",
    "print(f'There are totally {un_car} unique car models in our data')"
   ]
  },
  {
   "cell_type": "code",
   "execution_count": 42,
   "metadata": {},
   "outputs": [
    {
     "data": {
      "text/plain": [
       "octavia     0.235803\n",
       "superb      0.059703\n",
       "yaris       0.059348\n",
       "qashqai     0.053331\n",
       "x3          0.051929\n",
       "x1          0.045221\n",
       "i30         0.038251\n",
       "q5          0.038101\n",
       "x5          0.036980\n",
       "yeti        0.035467\n",
       "panda       0.033056\n",
       "q3          0.032440\n",
       "coupe       0.031954\n",
       "micra       0.031318\n",
       "auris       0.031131\n",
       "avensis     0.028254\n",
       "aygo        0.027768\n",
       "rapid       0.026329\n",
       "roomster    0.024703\n",
       "q7          0.023265\n",
       "citigo      0.020929\n",
       "juke        0.017845\n",
       "tt          0.016874\n",
       "Name: model, dtype: float64"
      ]
     },
     "execution_count": 42,
     "metadata": {},
     "output_type": "execute_result"
    }
   ],
   "source": [
    "car_data['model'].value_counts(normalize=True)"
   ]
  },
  {
   "cell_type": "markdown",
   "metadata": {},
   "source": [
    "We could see that 23% of the data contains the model 'Octavia' and the remaining are more or less similar.            \n",
    "The german car maker Audi model TT has low number of data."
   ]
  },
  {
   "cell_type": "markdown",
   "metadata": {},
   "source": [
    "#### Missing values"
   ]
  },
  {
   "cell_type": "code",
   "execution_count": 5,
   "metadata": {},
   "outputs": [
    {
     "data": {
      "text/plain": [
       "Id                         0\n",
       "Maker                      0\n",
       "model                      0\n",
       "Location                   0\n",
       "Distance                1211\n",
       "Owner Type                 0\n",
       "manufacture_year           0\n",
       "Age of car                 0\n",
       "engine_displacement        0\n",
       "engine_power            1439\n",
       "body_type              49379\n",
       "Vroom Audit Rating         0\n",
       "transmission               0\n",
       "door_count                 0\n",
       "seat_count                 0\n",
       "fuel_type                  0\n",
       "Price                      0\n",
       "dtype: int64"
      ]
     },
     "execution_count": 5,
     "metadata": {},
     "output_type": "execute_result"
    }
   ],
   "source": [
    "car_data1.isnull().sum()"
   ]
  },
  {
   "cell_type": "markdown",
   "metadata": {},
   "source": [
    "We have missing values in the features 'Distance', 'Engine power', 'Body type'.             \n",
    "And the columns door_count and seat_count needs to be converted to numerical data type."
   ]
  },
  {
   "cell_type": "markdown",
   "metadata": {},
   "source": [
    "Since body_type feature has more than 75% data missing, we will ignore that column. Also, we can ignore the Id column.\n",
    "For Distance and engine power columns, we will impute with the appropriate value.     \n",
    "since we have the age of the car, we can safely ignore the redundant manufacture_year column"
   ]
  },
  {
   "cell_type": "code",
   "execution_count": 6,
   "metadata": {},
   "outputs": [],
   "source": [
    "# let's drop those 3 columns\n",
    "car_data1 = car_data1.drop(['body_type', 'Id', 'manufacture_year'], axis='columns')"
   ]
  },
  {
   "cell_type": "code",
   "execution_count": 7,
   "metadata": {},
   "outputs": [
    {
     "data": {
      "text/plain": [
       "array(['octavia', 'panda', 'x1', 'juke', 'x5', 'superb', 'qashqai',\n",
       "       'coupe', 'micra', 'aygo', 'yeti', 'auris', 'q3', 'q5', 'x3',\n",
       "       'avensis', 'i30', 'q7', 'tt', 'citigo', 'yaris', 'roomster',\n",
       "       'rapid'], dtype=object)"
      ]
     },
     "execution_count": 7,
     "metadata": {},
     "output_type": "execute_result"
    }
   ],
   "source": [
    "# let's check the unique models in our dataset\n",
    "car_data1['model'].unique()"
   ]
  },
  {
   "cell_type": "code",
   "execution_count": 8,
   "metadata": {},
   "outputs": [
    {
     "data": {
      "text/plain": [
       "22"
      ]
     },
     "execution_count": 8,
     "metadata": {},
     "output_type": "execute_result"
    }
   ],
   "source": [
    "car_data1[car_data1['Distance '].isnull()]['model'].nunique() # number of unique elements in car models"
   ]
  },
  {
   "cell_type": "markdown",
   "metadata": {},
   "source": [
    "**Distance**"
   ]
  },
  {
   "cell_type": "code",
   "execution_count": 9,
   "metadata": {},
   "outputs": [
    {
     "data": {
      "text/plain": [
       "<matplotlib.axes._subplots.AxesSubplot at 0x1af63369508>"
      ]
     },
     "execution_count": 9,
     "metadata": {},
     "output_type": "execute_result"
    },
    {
     "data": {
      "image/png": "[encoded data removed]",
      "text/plain": [
       "<Figure size 432x288 with 1 Axes>"
      ]
     },
     "metadata": {
      "needs_background": "light"
     },
     "output_type": "display_data"
    }
   ],
   "source": [
    "sns.boxplot(car_data1['Distance '])"
   ]
  },
  {
   "cell_type": "markdown",
   "metadata": {},
   "source": [
    "We could see that, there are lot of outliers. Let's check the data."
   ]
  },
  {
   "cell_type": "code",
   "execution_count": 18,
   "metadata": {},
   "outputs": [
    {
     "data": {
      "text/html": [
       "<div>\n",
       "<style scoped>\n",
       "    .dataframe tbody tr th:only-of-type {\n",
       "        vertical-align: middle;\n",
       "    }\n",
       "\n",
       "    .dataframe tbody tr th {\n",
       "        vertical-align: top;\n",
       "    }\n",
       "\n",
       "    .dataframe thead th {\n",
       "        text-align: right;\n",
       "    }\n",
       "</style>\n",
       "<table border=\"1\" class=\"dataframe\">\n",
       "  <thead>\n",
       "    <tr style=\"text-align: right;\">\n",
       "      <th></th>\n",
       "      <th>Maker</th>\n",
       "      <th>model</th>\n",
       "      <th>Location</th>\n",
       "      <th>Distance</th>\n",
       "      <th>Owner Type</th>\n",
       "      <th>Age of car</th>\n",
       "      <th>engine_displacement</th>\n",
       "      <th>engine_power</th>\n",
       "      <th>Vroom Audit Rating</th>\n",
       "      <th>transmission</th>\n",
       "      <th>door_count</th>\n",
       "      <th>seat_count</th>\n",
       "      <th>fuel_type</th>\n",
       "      <th>Price</th>\n",
       "    </tr>\n",
       "  </thead>\n",
       "  <tbody>\n",
       "    <tr>\n",
       "      <th>1053</th>\n",
       "      <td>skoda</td>\n",
       "      <td>octavia</td>\n",
       "      <td>Kolkata</td>\n",
       "      <td>8177000.0</td>\n",
       "      <td>First</td>\n",
       "      <td>11</td>\n",
       "      <td>2000</td>\n",
       "      <td>110.0</td>\n",
       "      <td>5</td>\n",
       "      <td>man</td>\n",
       "      <td>None</td>\n",
       "      <td>None</td>\n",
       "      <td>petrol</td>\n",
       "      <td>249815.25</td>\n",
       "    </tr>\n",
       "    <tr>\n",
       "      <th>5923</th>\n",
       "      <td>skoda</td>\n",
       "      <td>superb</td>\n",
       "      <td>Pune</td>\n",
       "      <td>9235000.0</td>\n",
       "      <td>First</td>\n",
       "      <td>10</td>\n",
       "      <td>9235</td>\n",
       "      <td>NaN</td>\n",
       "      <td>7</td>\n",
       "      <td>auto</td>\n",
       "      <td>None</td>\n",
       "      <td>None</td>\n",
       "      <td>petrol</td>\n",
       "      <td>680052.00</td>\n",
       "    </tr>\n",
       "    <tr>\n",
       "      <th>5982</th>\n",
       "      <td>skoda</td>\n",
       "      <td>octavia</td>\n",
       "      <td>Coimbatore</td>\n",
       "      <td>8177000.0</td>\n",
       "      <td>Fourth &amp; Above</td>\n",
       "      <td>11</td>\n",
       "      <td>2000</td>\n",
       "      <td>110.0</td>\n",
       "      <td>4</td>\n",
       "      <td>man</td>\n",
       "      <td>None</td>\n",
       "      <td>None</td>\n",
       "      <td>petrol</td>\n",
       "      <td>249815.25</td>\n",
       "    </tr>\n",
       "    <tr>\n",
       "      <th>8414</th>\n",
       "      <td>skoda</td>\n",
       "      <td>octavia</td>\n",
       "      <td>Mumbai</td>\n",
       "      <td>8179000.0</td>\n",
       "      <td>First</td>\n",
       "      <td>17</td>\n",
       "      <td>1900</td>\n",
       "      <td>81.0</td>\n",
       "      <td>4</td>\n",
       "      <td>man</td>\n",
       "      <td>None</td>\n",
       "      <td>None</td>\n",
       "      <td>petrol</td>\n",
       "      <td>235936.50</td>\n",
       "    </tr>\n",
       "    <tr>\n",
       "      <th>11206</th>\n",
       "      <td>skoda</td>\n",
       "      <td>octavia</td>\n",
       "      <td>Jaipur</td>\n",
       "      <td>8177000.0</td>\n",
       "      <td>First</td>\n",
       "      <td>11</td>\n",
       "      <td>2000</td>\n",
       "      <td>110.0</td>\n",
       "      <td>7</td>\n",
       "      <td>man</td>\n",
       "      <td>None</td>\n",
       "      <td>None</td>\n",
       "      <td>petrol</td>\n",
       "      <td>249815.25</td>\n",
       "    </tr>\n",
       "  </tbody>\n",
       "</table>\n",
       "</div>"
      ],
      "text/plain": [
       "       Maker    model    Location  Distance       Owner Type  Age of car  \\\n",
       "1053   skoda  octavia     Kolkata  8177000.0           First          11   \n",
       "5923   skoda   superb        Pune  9235000.0           First          10   \n",
       "5982   skoda  octavia  Coimbatore  8177000.0  Fourth & Above          11   \n",
       "8414   skoda  octavia      Mumbai  8179000.0           First          17   \n",
       "11206  skoda  octavia      Jaipur  8177000.0           First          11   \n",
       "\n",
       "       engine_displacement  engine_power  Vroom Audit Rating transmission  \\\n",
       "1053                  2000         110.0                   5          man   \n",
       "5923                  9235           NaN                   7         auto   \n",
       "5982                  2000         110.0                   4          man   \n",
       "8414                  1900          81.0                   4          man   \n",
       "11206                 2000         110.0                   7          man   \n",
       "\n",
       "      door_count seat_count fuel_type      Price  \n",
       "1053        None       None    petrol  249815.25  \n",
       "5923        None       None    petrol  680052.00  \n",
       "5982        None       None    petrol  249815.25  \n",
       "8414        None       None    petrol  235936.50  \n",
       "11206       None       None    petrol  249815.25  "
      ]
     },
     "execution_count": 18,
     "metadata": {},
     "output_type": "execute_result"
    }
   ],
   "source": [
    "car_data1[car_data1['Distance '] > 8000000].head(5)"
   ]
  },
  {
   "cell_type": "markdown",
   "metadata": {},
   "source": [
    "We could see that, it is due to either age of car and the owner type is first, these are important data, hence, we cannot \n",
    "ignore these records."
   ]
  },
  {
   "cell_type": "markdown",
   "metadata": {},
   "source": [
    "**Engine Power**"
   ]
  },
  {
   "cell_type": "code",
   "execution_count": 410,
   "metadata": {},
   "outputs": [
    {
     "data": {
      "text/plain": [
       "<matplotlib.axes._subplots.AxesSubplot at 0x1daaad0a9e8>"
      ]
     },
     "execution_count": 410,
     "metadata": {},
     "output_type": "execute_result"
    },
    {
     "data": {
      "image/png": "[encoded data removed]",
      "text/plain": [
       "<Figure size 432x288 with 1 Axes>"
      ]
     },
     "metadata": {},
     "output_type": "display_data"
    }
   ],
   "source": [
    "sns.boxplot(car_data1['engine_power'])"
   ]
  },
  {
   "cell_type": "code",
   "execution_count": 19,
   "metadata": {},
   "outputs": [
    {
     "data": {
      "text/html": [
       "<div>\n",
       "<style scoped>\n",
       "    .dataframe tbody tr th:only-of-type {\n",
       "        vertical-align: middle;\n",
       "    }\n",
       "\n",
       "    .dataframe tbody tr th {\n",
       "        vertical-align: top;\n",
       "    }\n",
       "\n",
       "    .dataframe thead th {\n",
       "        text-align: right;\n",
       "    }\n",
       "</style>\n",
       "<table border=\"1\" class=\"dataframe\">\n",
       "  <thead>\n",
       "    <tr style=\"text-align: right;\">\n",
       "      <th></th>\n",
       "      <th>Maker</th>\n",
       "      <th>model</th>\n",
       "      <th>Location</th>\n",
       "      <th>Distance</th>\n",
       "      <th>Owner Type</th>\n",
       "      <th>Age of car</th>\n",
       "      <th>engine_displacement</th>\n",
       "      <th>engine_power</th>\n",
       "      <th>Vroom Audit Rating</th>\n",
       "      <th>transmission</th>\n",
       "      <th>door_count</th>\n",
       "      <th>seat_count</th>\n",
       "      <th>fuel_type</th>\n",
       "      <th>Price</th>\n",
       "    </tr>\n",
       "  </thead>\n",
       "  <tbody>\n",
       "    <tr>\n",
       "      <th>47</th>\n",
       "      <td>bmw</td>\n",
       "      <td>x5</td>\n",
       "      <td>Ahmedabad</td>\n",
       "      <td>160000.0</td>\n",
       "      <td>Fourth &amp; Above</td>\n",
       "      <td>13</td>\n",
       "      <td>4799</td>\n",
       "      <td>265.0</td>\n",
       "      <td>4</td>\n",
       "      <td>auto</td>\n",
       "      <td>4</td>\n",
       "      <td>5</td>\n",
       "      <td>petrol</td>\n",
       "      <td>862916.25</td>\n",
       "    </tr>\n",
       "    <tr>\n",
       "      <th>60</th>\n",
       "      <td>bmw</td>\n",
       "      <td>x5</td>\n",
       "      <td>Ahmedabad</td>\n",
       "      <td>42000.0</td>\n",
       "      <td>Second</td>\n",
       "      <td>7</td>\n",
       "      <td>4395</td>\n",
       "      <td>408.0</td>\n",
       "      <td>4</td>\n",
       "      <td>auto</td>\n",
       "      <td>4</td>\n",
       "      <td>5</td>\n",
       "      <td>petrol</td>\n",
       "      <td>3149872.50</td>\n",
       "    </tr>\n",
       "    <tr>\n",
       "      <th>136</th>\n",
       "      <td>bmw</td>\n",
       "      <td>x5</td>\n",
       "      <td>Ahmedabad</td>\n",
       "      <td>38000.0</td>\n",
       "      <td>Fourth &amp; Above</td>\n",
       "      <td>5</td>\n",
       "      <td>4395</td>\n",
       "      <td>330.0</td>\n",
       "      <td>5</td>\n",
       "      <td>auto</td>\n",
       "      <td>None</td>\n",
       "      <td>5</td>\n",
       "      <td>petrol</td>\n",
       "      <td>5626665.75</td>\n",
       "    </tr>\n",
       "    <tr>\n",
       "      <th>304</th>\n",
       "      <td>audi</td>\n",
       "      <td>q7</td>\n",
       "      <td>Coimbatore</td>\n",
       "      <td>150000.0</td>\n",
       "      <td>Third</td>\n",
       "      <td>10</td>\n",
       "      <td>5934</td>\n",
       "      <td>412.0</td>\n",
       "      <td>7</td>\n",
       "      <td>auto</td>\n",
       "      <td>4</td>\n",
       "      <td>5</td>\n",
       "      <td>diesel</td>\n",
       "      <td>2487521.25</td>\n",
       "    </tr>\n",
       "    <tr>\n",
       "      <th>377</th>\n",
       "      <td>audi</td>\n",
       "      <td>coupe</td>\n",
       "      <td>Ahmedabad</td>\n",
       "      <td>53600.0</td>\n",
       "      <td>Fourth &amp; Above</td>\n",
       "      <td>6</td>\n",
       "      <td>2480</td>\n",
       "      <td>265.0</td>\n",
       "      <td>7</td>\n",
       "      <td>man</td>\n",
       "      <td>2</td>\n",
       "      <td>4</td>\n",
       "      <td>petrol</td>\n",
       "      <td>2771661.00</td>\n",
       "    </tr>\n",
       "  </tbody>\n",
       "</table>\n",
       "</div>"
      ],
      "text/plain": [
       "    Maker  model    Location  Distance       Owner Type  Age of car  \\\n",
       "47    bmw     x5   Ahmedabad   160000.0  Fourth & Above          13   \n",
       "60    bmw     x5   Ahmedabad    42000.0          Second           7   \n",
       "136   bmw     x5   Ahmedabad    38000.0  Fourth & Above           5   \n",
       "304  audi     q7  Coimbatore   150000.0           Third          10   \n",
       "377  audi  coupe   Ahmedabad    53600.0  Fourth & Above           6   \n",
       "\n",
       "     engine_displacement  engine_power  Vroom Audit Rating transmission  \\\n",
       "47                  4799         265.0                   4         auto   \n",
       "60                  4395         408.0                   4         auto   \n",
       "136                 4395         330.0                   5         auto   \n",
       "304                 5934         412.0                   7         auto   \n",
       "377                 2480         265.0                   7          man   \n",
       "\n",
       "    door_count seat_count fuel_type       Price  \n",
       "47           4          5    petrol   862916.25  \n",
       "60           4          5    petrol  3149872.50  \n",
       "136       None          5    petrol  5626665.75  \n",
       "304          4          5    diesel  2487521.25  \n",
       "377          2          4    petrol  2771661.00  "
      ]
     },
     "execution_count": 19,
     "metadata": {},
     "output_type": "execute_result"
    }
   ],
   "source": [
    "car_data1[car_data1['engine_power'] > 250].head(5)"
   ]
  },
  {
   "cell_type": "markdown",
   "metadata": {},
   "source": [
    "These are high-end cars, as it is evident from the \"Maker\" column. These records are important as well."
   ]
  },
  {
   "cell_type": "markdown",
   "metadata": {},
   "source": [
    "**Missing value imputation**"
   ]
  },
  {
   "cell_type": "markdown",
   "metadata": {},
   "source": [
    "Since the median value is not affected by outliers. Let's impute the columns with \n",
    "missing values with median, for now."
   ]
  },
  {
   "cell_type": "code",
   "execution_count": 20,
   "metadata": {},
   "outputs": [],
   "source": [
    "# let's impute the distance column with median value\n",
    "dist_median = np.median(car_data1[~car_data1['Distance '].isnull()]['Distance '])\n",
    "car_data1['Distance '].fillna(dist_median, inplace=True)\n",
    "car_data1['Distance '] = car_data1['Distance '].astype('float')"
   ]
  },
  {
   "cell_type": "code",
   "execution_count": 21,
   "metadata": {},
   "outputs": [],
   "source": [
    "# let's impute the engine power column with median value\n",
    "pwr_median = np.median(car_data1[~car_data1['engine_power'].isnull()]['engine_power'])\n",
    "car_data1['engine_power'].fillna(pwr_median, inplace=True)"
   ]
  },
  {
   "cell_type": "code",
   "execution_count": 22,
   "metadata": {},
   "outputs": [
    {
     "data": {
      "text/plain": [
       "0"
      ]
     },
     "execution_count": 22,
     "metadata": {},
     "output_type": "execute_result"
    }
   ],
   "source": [
    "car_data1.isnull().sum().sum()"
   ]
  },
  {
   "cell_type": "markdown",
   "metadata": {},
   "source": [
    "Now, we have no null values in our data."
   ]
  },
  {
   "cell_type": "code",
   "execution_count": 414,
   "metadata": {},
   "outputs": [
    {
     "data": {
      "text/plain": [
       "<matplotlib.axes._subplots.AxesSubplot at 0x1daaac075f8>"
      ]
     },
     "execution_count": 414,
     "metadata": {},
     "output_type": "execute_result"
    },
    {
     "data": {
      "image/png": "[encoded data removed]",
      "text/plain": [
       "<Figure size 432x288 with 1 Axes>"
      ]
     },
     "metadata": {},
     "output_type": "display_data"
    }
   ],
   "source": [
    "# let's check for outliers in our target price column\n",
    "sns.boxplot(car_data1['Price'])"
   ]
  },
  {
   "cell_type": "markdown",
   "metadata": {},
   "source": [
    "We see a lot of outliers, in our response variable. Let's check analyse further."
   ]
  },
  {
   "cell_type": "code",
   "execution_count": 23,
   "metadata": {},
   "outputs": [
    {
     "data": {
      "text/plain": [
       "2936800.3125"
      ]
     },
     "execution_count": 23,
     "metadata": {},
     "output_type": "execute_result"
    }
   ],
   "source": [
    "# let's get the summary statistics for the target column\n",
    "\n",
    "q1 = car_data1['Price'].quantile(0.25)\n",
    "q3 = car_data1['Price'].quantile(0.75)\n",
    "iqr = q3 -q1\n",
    "uw = q3 + 1.5*iqr\n",
    "uw"
   ]
  },
  {
   "cell_type": "code",
   "execution_count": 24,
   "metadata": {},
   "outputs": [
    {
     "data": {
      "text/html": [
       "<div>\n",
       "<style scoped>\n",
       "    .dataframe tbody tr th:only-of-type {\n",
       "        vertical-align: middle;\n",
       "    }\n",
       "\n",
       "    .dataframe tbody tr th {\n",
       "        vertical-align: top;\n",
       "    }\n",
       "\n",
       "    .dataframe thead th {\n",
       "        text-align: right;\n",
       "    }\n",
       "</style>\n",
       "<table border=\"1\" class=\"dataframe\">\n",
       "  <thead>\n",
       "    <tr style=\"text-align: right;\">\n",
       "      <th></th>\n",
       "      <th>Maker</th>\n",
       "      <th>model</th>\n",
       "      <th>Location</th>\n",
       "      <th>Distance</th>\n",
       "      <th>Owner Type</th>\n",
       "      <th>Age of car</th>\n",
       "      <th>engine_displacement</th>\n",
       "      <th>engine_power</th>\n",
       "      <th>Vroom Audit Rating</th>\n",
       "      <th>transmission</th>\n",
       "      <th>door_count</th>\n",
       "      <th>seat_count</th>\n",
       "      <th>fuel_type</th>\n",
       "      <th>Price</th>\n",
       "    </tr>\n",
       "  </thead>\n",
       "  <tbody>\n",
       "    <tr>\n",
       "      <th>4</th>\n",
       "      <td>bmw</td>\n",
       "      <td>x5</td>\n",
       "      <td>Jaipur</td>\n",
       "      <td>59524.0</td>\n",
       "      <td>Fourth &amp; Above</td>\n",
       "      <td>7</td>\n",
       "      <td>2993</td>\n",
       "      <td>180.0</td>\n",
       "      <td>7</td>\n",
       "      <td>auto</td>\n",
       "      <td>4</td>\n",
       "      <td>5</td>\n",
       "      <td>diesel</td>\n",
       "      <td>3085561.50</td>\n",
       "    </tr>\n",
       "    <tr>\n",
       "      <th>17</th>\n",
       "      <td>audi</td>\n",
       "      <td>coupe</td>\n",
       "      <td>Ahmedabad</td>\n",
       "      <td>1100.0</td>\n",
       "      <td>Third</td>\n",
       "      <td>4</td>\n",
       "      <td>2967</td>\n",
       "      <td>180.0</td>\n",
       "      <td>7</td>\n",
       "      <td>auto</td>\n",
       "      <td>2</td>\n",
       "      <td>4</td>\n",
       "      <td>diesel</td>\n",
       "      <td>4537797.00</td>\n",
       "    </tr>\n",
       "    <tr>\n",
       "      <th>30</th>\n",
       "      <td>audi</td>\n",
       "      <td>q3</td>\n",
       "      <td>Mumbai</td>\n",
       "      <td>1000.0</td>\n",
       "      <td>Second</td>\n",
       "      <td>4</td>\n",
       "      <td>1968</td>\n",
       "      <td>135.0</td>\n",
       "      <td>7</td>\n",
       "      <td>auto</td>\n",
       "      <td>4</td>\n",
       "      <td>5</td>\n",
       "      <td>diesel</td>\n",
       "      <td>3556973.25</td>\n",
       "    </tr>\n",
       "    <tr>\n",
       "      <th>60</th>\n",
       "      <td>bmw</td>\n",
       "      <td>x5</td>\n",
       "      <td>Ahmedabad</td>\n",
       "      <td>42000.0</td>\n",
       "      <td>Second</td>\n",
       "      <td>7</td>\n",
       "      <td>4395</td>\n",
       "      <td>408.0</td>\n",
       "      <td>4</td>\n",
       "      <td>auto</td>\n",
       "      <td>4</td>\n",
       "      <td>5</td>\n",
       "      <td>petrol</td>\n",
       "      <td>3149872.50</td>\n",
       "    </tr>\n",
       "    <tr>\n",
       "      <th>69</th>\n",
       "      <td>bmw</td>\n",
       "      <td>x3</td>\n",
       "      <td>Delhi</td>\n",
       "      <td>10.0</td>\n",
       "      <td>Fourth &amp; Above</td>\n",
       "      <td>4</td>\n",
       "      <td>1995</td>\n",
       "      <td>10.0</td>\n",
       "      <td>5</td>\n",
       "      <td>auto</td>\n",
       "      <td>None</td>\n",
       "      <td>5</td>\n",
       "      <td>diesel</td>\n",
       "      <td>2972503.50</td>\n",
       "    </tr>\n",
       "  </tbody>\n",
       "</table>\n",
       "</div>"
      ],
      "text/plain": [
       "   Maker  model   Location  Distance       Owner Type  Age of car  \\\n",
       "4    bmw     x5     Jaipur    59524.0  Fourth & Above           7   \n",
       "17  audi  coupe  Ahmedabad     1100.0           Third           4   \n",
       "30  audi     q3     Mumbai     1000.0          Second           4   \n",
       "60   bmw     x5  Ahmedabad    42000.0          Second           7   \n",
       "69   bmw     x3      Delhi       10.0  Fourth & Above           4   \n",
       "\n",
       "    engine_displacement  engine_power  Vroom Audit Rating transmission  \\\n",
       "4                  2993         180.0                   7         auto   \n",
       "17                 2967         180.0                   7         auto   \n",
       "30                 1968         135.0                   7         auto   \n",
       "60                 4395         408.0                   4         auto   \n",
       "69                 1995          10.0                   5         auto   \n",
       "\n",
       "   door_count seat_count fuel_type       Price  \n",
       "4           4          5    diesel  3085561.50  \n",
       "17          2          4    diesel  4537797.00  \n",
       "30          4          5    diesel  3556973.25  \n",
       "60          4          5    petrol  3149872.50  \n",
       "69       None          5    diesel  2972503.50  "
      ]
     },
     "execution_count": 24,
     "metadata": {},
     "output_type": "execute_result"
    }
   ],
   "source": [
    "car_data1[car_data1['Price'] > uw].head() # let's check the outlier values"
   ]
  },
  {
   "cell_type": "code",
   "execution_count": 417,
   "metadata": {},
   "outputs": [
    {
     "data": {
      "text/plain": [
       "array(['bmw', 'audi', 'skoda', 'toyota', 'fiat'], dtype=object)"
      ]
     },
     "execution_count": 417,
     "metadata": {},
     "output_type": "execute_result"
    }
   ],
   "source": [
    "car_data1[car_data1['Price'] > uw]['Maker'].unique()"
   ]
  },
  {
   "cell_type": "markdown",
   "metadata": {},
   "source": [
    "We could see that, the models where the price of the cars lie above approx 30 lakhs, are higher end models."
   ]
  },
  {
   "cell_type": "code",
   "execution_count": 418,
   "metadata": {},
   "outputs": [],
   "source": [
    "# let's check for correlations of the features with the price columns\n",
    "# sns.pairplot(car_data1, diag_kind='kde')"
   ]
  },
  {
   "cell_type": "code",
   "execution_count": 419,
   "metadata": {},
   "outputs": [
    {
     "data": {
      "text/plain": [
       "engine_power           0.620668\n",
       "Age of car             0.506707\n",
       "engine_displacement    0.162072\n",
       "Distance               0.155366\n",
       "Vroom Audit Rating     0.005109\n",
       "Name: Price, dtype: float64"
      ]
     },
     "execution_count": 419,
     "metadata": {},
     "output_type": "execute_result"
    }
   ],
   "source": [
    "corr_m = car_data1.corr()\n",
    "corr_m['Price'].abs().sort_values(ascending=False)[1:]"
   ]
  },
  {
   "cell_type": "markdown",
   "metadata": {},
   "source": [
    "We could see that, engine power has moderately positive correlatio with the price column."
   ]
  },
  {
   "cell_type": "markdown",
   "metadata": {},
   "source": [
    "Let's check the number of unique values in the categorical columns."
   ]
  },
  {
   "cell_type": "code",
   "execution_count": 30,
   "metadata": {},
   "outputs": [],
   "source": [
    "cat_columns = list(car_data1.select_dtypes(exclude=np.number))"
   ]
  },
  {
   "cell_type": "code",
   "execution_count": 31,
   "metadata": {},
   "outputs": [
    {
     "name": "stdout",
     "output_type": "stream",
     "text": [
      "Maker : ['skoda' 'fiat' 'bmw' 'nissan' 'audi' 'toyota' 'hyundai' 'maserati']\n",
      "Maker : 8 \n",
      "\n",
      "model : ['octavia' 'panda' 'x1' 'juke' 'x5' 'superb' 'qashqai' 'coupe' 'micra'\n",
      " 'aygo' 'yeti' 'auris' 'q3' 'q5' 'x3' 'avensis' 'i30' 'q7' 'tt' 'citigo'\n",
      " 'yaris' 'roomster' 'rapid']\n",
      "model : 23 \n",
      "\n",
      "Location : ['Ahmedabad' 'Hyderabad' 'Mumbai' 'Jaipur' 'Chennai' 'Coimbatore' 'Kochi'\n",
      " 'Bangalore' 'Pune' 'Kolkata' 'Delhi']\n",
      "Location : 11 \n",
      "\n",
      "Owner Type : ['Second' 'Third' 'Fourth & Above' 'First']\n",
      "Owner Type : 4 \n",
      "\n",
      "transmission : ['man' 'auto']\n",
      "transmission : 2 \n",
      "\n",
      "door_count : ['None' '4' '5' '2' '3' '1' '6']\n",
      "door_count : 7 \n",
      "\n",
      "seat_count : ['None' '4' '5' '2' '3' '7' '6' '1' '9' '8']\n",
      "seat_count : 10 \n",
      "\n",
      "fuel_type : ['petrol' 'diesel']\n",
      "fuel_type : 2 \n",
      "\n"
     ]
    }
   ],
   "source": [
    "# let's check the nummber of unique elements in categorical columns\n",
    "for col in cat_columns:\n",
    "    print(col, ':', car_data1[col].unique())\n",
    "    print(col, ':',car_data1[col].nunique(), '\\n')"
   ]
  },
  {
   "cell_type": "markdown",
   "metadata": {},
   "source": [
    "We could see that, there are 'None' values in door_count and seat_count columns. \n",
    "And some interesting values like 1 in door count and seat count of a car. Let's check those records."
   ]
  },
  {
   "cell_type": "markdown",
   "metadata": {},
   "source": [
    "Let's check how many records has None values."
   ]
  },
  {
   "cell_type": "code",
   "execution_count": 425,
   "metadata": {},
   "outputs": [
    {
     "data": {
      "text/plain": [
       "7534"
      ]
     },
     "execution_count": 425,
     "metadata": {},
     "output_type": "execute_result"
    }
   ],
   "source": [
    "len(car_data1[car_data1['door_count']=='None'])"
   ]
  },
  {
   "cell_type": "code",
   "execution_count": 426,
   "metadata": {},
   "outputs": [
    {
     "data": {
      "text/plain": [
       "8511"
      ]
     },
     "execution_count": 426,
     "metadata": {},
     "output_type": "execute_result"
    }
   ],
   "source": [
    "len(car_data1[car_data1['seat_count']=='None'])"
   ]
  },
  {
   "cell_type": "code",
   "execution_count": 33,
   "metadata": {},
   "outputs": [
    {
     "data": {
      "text/html": [
       "<div>\n",
       "<style scoped>\n",
       "    .dataframe tbody tr th:only-of-type {\n",
       "        vertical-align: middle;\n",
       "    }\n",
       "\n",
       "    .dataframe tbody tr th {\n",
       "        vertical-align: top;\n",
       "    }\n",
       "\n",
       "    .dataframe thead th {\n",
       "        text-align: right;\n",
       "    }\n",
       "</style>\n",
       "<table border=\"1\" class=\"dataframe\">\n",
       "  <thead>\n",
       "    <tr style=\"text-align: right;\">\n",
       "      <th></th>\n",
       "      <th>Maker</th>\n",
       "      <th>model</th>\n",
       "      <th>Location</th>\n",
       "      <th>Distance</th>\n",
       "      <th>Owner Type</th>\n",
       "      <th>Age of car</th>\n",
       "      <th>engine_displacement</th>\n",
       "      <th>engine_power</th>\n",
       "      <th>Vroom Audit Rating</th>\n",
       "      <th>transmission</th>\n",
       "      <th>door_count</th>\n",
       "      <th>seat_count</th>\n",
       "      <th>fuel_type</th>\n",
       "      <th>Price</th>\n",
       "    </tr>\n",
       "  </thead>\n",
       "  <tbody>\n",
       "    <tr>\n",
       "      <th>11862</th>\n",
       "      <td>audi</td>\n",
       "      <td>q7</td>\n",
       "      <td>Jaipur</td>\n",
       "      <td>17282.0</td>\n",
       "      <td>Second</td>\n",
       "      <td>4</td>\n",
       "      <td>2967</td>\n",
       "      <td>200.0</td>\n",
       "      <td>5</td>\n",
       "      <td>auto</td>\n",
       "      <td>1</td>\n",
       "      <td>None</td>\n",
       "      <td>diesel</td>\n",
       "      <td>5770725.75</td>\n",
       "    </tr>\n",
       "    <tr>\n",
       "      <th>12051</th>\n",
       "      <td>skoda</td>\n",
       "      <td>roomster</td>\n",
       "      <td>Mumbai</td>\n",
       "      <td>4769.0</td>\n",
       "      <td>Fourth &amp; Above</td>\n",
       "      <td>5</td>\n",
       "      <td>1197</td>\n",
       "      <td>63.0</td>\n",
       "      <td>6</td>\n",
       "      <td>man</td>\n",
       "      <td>1</td>\n",
       "      <td>None</td>\n",
       "      <td>petrol</td>\n",
       "      <td>763323.75</td>\n",
       "    </tr>\n",
       "  </tbody>\n",
       "</table>\n",
       "</div>"
      ],
      "text/plain": [
       "       Maker     model Location  Distance       Owner Type  Age of car  \\\n",
       "11862   audi        q7   Jaipur    17282.0          Second           4   \n",
       "12051  skoda  roomster   Mumbai     4769.0  Fourth & Above           5   \n",
       "\n",
       "       engine_displacement  engine_power  Vroom Audit Rating transmission  \\\n",
       "11862                 2967         200.0                   5         auto   \n",
       "12051                 1197          63.0                   6          man   \n",
       "\n",
       "      door_count seat_count fuel_type       Price  \n",
       "11862          1       None    diesel  5770725.75  \n",
       "12051          1       None    petrol   763323.75  "
      ]
     },
     "execution_count": 33,
     "metadata": {},
     "output_type": "execute_result"
    }
   ],
   "source": [
    "car_data1[car_data1['door_count']=='1']"
   ]
  },
  {
   "cell_type": "code",
   "execution_count": 427,
   "metadata": {},
   "outputs": [],
   "source": [
    "car_data1['seat_count'] = car_data1['seat_count'].replace('None', 4)\n",
    "car_data1['door_count'] = car_data1['door_count'].replace('None', 4)\n",
    "car_data1['seat_count'] = car_data1['seat_count'].astype('int64')\n",
    "car_data1['door_count'] = car_data1['seat_count'].astype('int64')"
   ]
  },
  {
   "cell_type": "code",
   "execution_count": 428,
   "metadata": {},
   "outputs": [],
   "source": [
    "dic = {'Second':2, 'Third':3, 'Fourth & Above':4, 'First':1}\n",
    "car_data1['Owner Type'] = car_data1['Owner Type'].replace(dic)\n",
    "car_data1['Owner Type'] = car_data1['Owner Type'].astype('int64')"
   ]
  },
  {
   "cell_type": "code",
   "execution_count": 429,
   "metadata": {},
   "outputs": [
    {
     "data": {
      "text/plain": [
       "0      skoda\n",
       "1       fiat\n",
       "2        bmw\n",
       "3     nissan\n",
       "4        bmw\n",
       "5      skoda\n",
       "6      skoda\n",
       "7       fiat\n",
       "8     nissan\n",
       "9      skoda\n",
       "10     skoda\n",
       "11      audi\n",
       "12    nissan\n",
       "13    toyota\n",
       "14     skoda\n",
       "Name: Maker, dtype: object"
      ]
     },
     "execution_count": 429,
     "metadata": {},
     "output_type": "execute_result"
    }
   ],
   "source": [
    "car_data1['Maker'].head(15)"
   ]
  },
  {
   "cell_type": "markdown",
   "metadata": {},
   "source": [
    "#### Handling Categorical features"
   ]
  },
  {
   "cell_type": "code",
   "execution_count": null,
   "metadata": {},
   "outputs": [],
   "source": [
    "# let's encode the categorical features\n",
    "from sklearn.preprocessing import LabelEncoder, OneHotEncoder, LabelBinarizer\n",
    "\n",
    "lb = LabelBinarizer()\n",
    "car_data1['transmission'] = lb.fit_transform(car_data1['transmission'])\n",
    "car_data1['fuel_type'] = lb.fit_transform(car_data1['fuel_type'])"
   ]
  },
  {
   "cell_type": "code",
   "execution_count": 430,
   "metadata": {},
   "outputs": [],
   "source": [
    "makers = pd.DataFrame(lb.fit_transform(car_data1['Maker']), \n",
    "                      columns=['audi', 'bmw', 'fiat', 'hyundai', 'maserati', 'nissan', 'skoda', 'toyota'])"
   ]
  },
  {
   "cell_type": "code",
   "execution_count": 431,
   "metadata": {},
   "outputs": [
    {
     "data": {
      "text/plain": [
       "array([[0, 0, 0, ..., 0, 0, 0],\n",
       "       [0, 0, 0, ..., 0, 0, 0],\n",
       "       [0, 0, 0, ..., 0, 0, 0],\n",
       "       ...,\n",
       "       [0, 0, 0, ..., 0, 0, 0],\n",
       "       [0, 1, 0, ..., 0, 0, 0],\n",
       "       [0, 0, 0, ..., 1, 0, 0]])"
      ]
     },
     "execution_count": 431,
     "metadata": {},
     "output_type": "execute_result"
    }
   ],
   "source": [
    "lb.fit_transform(car_data1['model'])"
   ]
  },
  {
   "cell_type": "code",
   "execution_count": 432,
   "metadata": {},
   "outputs": [],
   "source": [
    "car_data1.drop('Maker', axis='columns', inplace=True)"
   ]
  },
  {
   "cell_type": "code",
   "execution_count": 433,
   "metadata": {},
   "outputs": [],
   "source": [
    "car_data1 = pd.concat([car_data1, makers], axis='columns')"
   ]
  },
  {
   "cell_type": "code",
   "execution_count": 434,
   "metadata": {},
   "outputs": [],
   "source": [
    "X = car_data1.drop(['model', 'Location', 'Price'], axis='columns')\n",
    "y = car_data1['Price'].copy()"
   ]
  },
  {
   "cell_type": "code",
   "execution_count": 435,
   "metadata": {},
   "outputs": [
    {
     "data": {
      "text/plain": [
       "((40136, 18), (13379, 18), (40136,), (13379,))"
      ]
     },
     "execution_count": 435,
     "metadata": {},
     "output_type": "execute_result"
    }
   ],
   "source": [
    "from sklearn.model_selection import train_test_split\n",
    "\n",
    "X_train, X_test, y_train, y_test = train_test_split(X, y, test_size=0.25, random_state=42)\n",
    "X_train.shape, X_test.shape, y_train.shape, y_test.shape"
   ]
  },
  {
   "cell_type": "markdown",
   "metadata": {},
   "source": [
    "### Model building"
   ]
  },
  {
   "cell_type": "code",
   "execution_count": 436,
   "metadata": {},
   "outputs": [
    {
     "name": "stderr",
     "output_type": "stream",
     "text": [
      "C:\\Users\\gokul\\Anaconda3\\lib\\site-packages\\numpy\\core\\fromnumeric.py:2389: FutureWarning: Method .ptp is deprecated and will be removed in a future version. Use numpy.ptp instead.\n",
      "  return ptp(axis=axis, out=out, **kwargs)\n"
     ]
    },
    {
     "data": {
      "text/html": [
       "<table class=\"simpletable\">\n",
       "<caption>OLS Regression Results</caption>\n",
       "<tr>\n",
       "  <th>Dep. Variable:</th>          <td>Price</td>      <th>  R-squared:         </th>  <td>   0.714</td>  \n",
       "</tr>\n",
       "<tr>\n",
       "  <th>Model:</th>                   <td>OLS</td>       <th>  Adj. R-squared:    </th>  <td>   0.714</td>  \n",
       "</tr>\n",
       "<tr>\n",
       "  <th>Method:</th>             <td>Least Squares</td>  <th>  F-statistic:       </th>  <td>   8349.</td>  \n",
       "</tr>\n",
       "<tr>\n",
       "  <th>Date:</th>             <td>Wed, 09 Oct 2019</td> <th>  Prob (F-statistic):</th>   <td>  0.00</td>   \n",
       "</tr>\n",
       "<tr>\n",
       "  <th>Time:</th>                 <td>13:14:27</td>     <th>  Log-Likelihood:    </th> <td>-7.7271e+05</td>\n",
       "</tr>\n",
       "<tr>\n",
       "  <th>No. Observations:</th>      <td> 53515</td>      <th>  AIC:               </th>  <td>1.545e+06</td> \n",
       "</tr>\n",
       "<tr>\n",
       "  <th>Df Residuals:</th>          <td> 53498</td>      <th>  BIC:               </th>  <td>1.546e+06</td> \n",
       "</tr>\n",
       "<tr>\n",
       "  <th>Df Model:</th>              <td>    16</td>      <th>                     </th>      <td> </td>     \n",
       "</tr>\n",
       "<tr>\n",
       "  <th>Covariance Type:</th>      <td>nonrobust</td>    <th>                     </th>      <td> </td>     \n",
       "</tr>\n",
       "</table>\n",
       "<table class=\"simpletable\">\n",
       "<tr>\n",
       "           <td></td>              <th>coef</th>     <th>std err</th>      <th>t</th>      <th>P>|t|</th>  <th>[0.025</th>    <th>0.975]</th>  \n",
       "</tr>\n",
       "<tr>\n",
       "  <th>const</th>               <td> 1.002e+06</td> <td>  2.1e+04</td> <td>   47.646</td> <td> 0.000</td> <td> 9.61e+05</td> <td> 1.04e+06</td>\n",
       "</tr>\n",
       "<tr>\n",
       "  <th>Distance </th>           <td>   -0.1576</td> <td>    0.007</td> <td>  -21.310</td> <td> 0.000</td> <td>   -0.172</td> <td>   -0.143</td>\n",
       "</tr>\n",
       "<tr>\n",
       "  <th>Owner Type</th>          <td>-3537.0823</td> <td> 1745.878</td> <td>   -2.026</td> <td> 0.043</td> <td>-6959.017</td> <td> -115.148</td>\n",
       "</tr>\n",
       "<tr>\n",
       "  <th>Age of car</th>          <td>-7.844e+04</td> <td>  442.488</td> <td> -177.280</td> <td> 0.000</td> <td>-7.93e+04</td> <td>-7.76e+04</td>\n",
       "</tr>\n",
       "<tr>\n",
       "  <th>engine_displacement</th> <td>    5.3550</td> <td>    1.398</td> <td>    3.830</td> <td> 0.000</td> <td>    2.615</td> <td>    8.095</td>\n",
       "</tr>\n",
       "<tr>\n",
       "  <th>engine_power</th>        <td> 5401.8592</td> <td>   64.762</td> <td>   83.411</td> <td> 0.000</td> <td> 5274.926</td> <td> 5528.793</td>\n",
       "</tr>\n",
       "<tr>\n",
       "  <th>Vroom Audit Rating</th>  <td> 1346.5925</td> <td> 1376.217</td> <td>    0.978</td> <td> 0.328</td> <td>-1350.805</td> <td> 4043.990</td>\n",
       "</tr>\n",
       "<tr>\n",
       "  <th>transmission</th>        <td>-2.423e+05</td> <td> 5057.762</td> <td>  -47.908</td> <td> 0.000</td> <td>-2.52e+05</td> <td>-2.32e+05</td>\n",
       "</tr>\n",
       "<tr>\n",
       "  <th>door_count</th>          <td> 4.006e+04</td> <td> 1734.493</td> <td>   23.098</td> <td> 0.000</td> <td> 3.67e+04</td> <td> 4.35e+04</td>\n",
       "</tr>\n",
       "<tr>\n",
       "  <th>seat_count</th>          <td> 4.006e+04</td> <td> 1734.493</td> <td>   23.098</td> <td> 0.000</td> <td> 3.67e+04</td> <td> 4.35e+04</td>\n",
       "</tr>\n",
       "<tr>\n",
       "  <th>fuel_type</th>           <td>-8.955e+04</td> <td> 4433.162</td> <td>  -20.200</td> <td> 0.000</td> <td>-9.82e+04</td> <td>-8.09e+04</td>\n",
       "</tr>\n",
       "<tr>\n",
       "  <th>audi</th>                <td> 6.647e+05</td> <td> 1.01e+04</td> <td>   65.557</td> <td> 0.000</td> <td> 6.45e+05</td> <td> 6.85e+05</td>\n",
       "</tr>\n",
       "<tr>\n",
       "  <th>bmw</th>                 <td> 3.656e+05</td> <td> 1.03e+04</td> <td>   35.389</td> <td> 0.000</td> <td> 3.45e+05</td> <td> 3.86e+05</td>\n",
       "</tr>\n",
       "<tr>\n",
       "  <th>fiat</th>                <td>-5.794e+04</td> <td> 1.31e+04</td> <td>   -4.424</td> <td> 0.000</td> <td>-8.36e+04</td> <td>-3.23e+04</td>\n",
       "</tr>\n",
       "<tr>\n",
       "  <th>hyundai</th>             <td>-2.328e+05</td> <td> 1.24e+04</td> <td>  -18.754</td> <td> 0.000</td> <td>-2.57e+05</td> <td>-2.08e+05</td>\n",
       "</tr>\n",
       "<tr>\n",
       "  <th>maserati</th>            <td> 5.449e+05</td> <td> 6.62e+04</td> <td>    8.230</td> <td> 0.000</td> <td> 4.15e+05</td> <td> 6.75e+05</td>\n",
       "</tr>\n",
       "<tr>\n",
       "  <th>nissan</th>              <td>-4.142e+04</td> <td> 1.07e+04</td> <td>   -3.859</td> <td> 0.000</td> <td>-6.25e+04</td> <td>-2.04e+04</td>\n",
       "</tr>\n",
       "<tr>\n",
       "  <th>skoda</th>               <td>-9.996e+04</td> <td> 9276.438</td> <td>  -10.775</td> <td> 0.000</td> <td>-1.18e+05</td> <td>-8.18e+04</td>\n",
       "</tr>\n",
       "<tr>\n",
       "  <th>toyota</th>              <td> -1.41e+05</td> <td> 1.02e+04</td> <td>  -13.867</td> <td> 0.000</td> <td>-1.61e+05</td> <td>-1.21e+05</td>\n",
       "</tr>\n",
       "</table>\n",
       "<table class=\"simpletable\">\n",
       "<tr>\n",
       "  <th>Omnibus:</th>       <td>60204.694</td> <th>  Durbin-Watson:     </th>   <td>   1.988</td>  \n",
       "</tr>\n",
       "<tr>\n",
       "  <th>Prob(Omnibus):</th>  <td> 0.000</td>   <th>  Jarque-Bera (JB):  </th> <td>33739484.330</td>\n",
       "</tr>\n",
       "<tr>\n",
       "  <th>Skew:</th>           <td> 5.166</td>   <th>  Prob(JB):          </th>   <td>    0.00</td>  \n",
       "</tr>\n",
       "<tr>\n",
       "  <th>Kurtosis:</th>       <td>125.574</td>  <th>  Cond. No.          </th>   <td>5.93e+21</td>  \n",
       "</tr>\n",
       "</table><br/><br/>Warnings:<br/>[1] Standard Errors assume that the covariance matrix of the errors is correctly specified.<br/>[2] The smallest eigenvalue is 1.27e-28. This might indicate that there are<br/>strong multicollinearity problems or that the design matrix is singular."
      ],
      "text/plain": [
       "<class 'statsmodels.iolib.summary.Summary'>\n",
       "\"\"\"\n",
       "                            OLS Regression Results                            \n",
       "==============================================================================\n",
       "Dep. Variable:                  Price   R-squared:                       0.714\n",
       "Model:                            OLS   Adj. R-squared:                  0.714\n",
       "Method:                 Least Squares   F-statistic:                     8349.\n",
       "Date:                Wed, 09 Oct 2019   Prob (F-statistic):               0.00\n",
       "Time:                        13:14:27   Log-Likelihood:            -7.7271e+05\n",
       "No. Observations:               53515   AIC:                         1.545e+06\n",
       "Df Residuals:                   53498   BIC:                         1.546e+06\n",
       "Df Model:                          16                                         \n",
       "Covariance Type:            nonrobust                                         \n",
       "=======================================================================================\n",
       "                          coef    std err          t      P>|t|      [0.025      0.975]\n",
       "---------------------------------------------------------------------------------------\n",
       "const                1.002e+06    2.1e+04     47.646      0.000    9.61e+05    1.04e+06\n",
       "Distance               -0.1576      0.007    -21.310      0.000      -0.172      -0.143\n",
       "Owner Type          -3537.0823   1745.878     -2.026      0.043   -6959.017    -115.148\n",
       "Age of car          -7.844e+04    442.488   -177.280      0.000   -7.93e+04   -7.76e+04\n",
       "engine_displacement     5.3550      1.398      3.830      0.000       2.615       8.095\n",
       "engine_power         5401.8592     64.762     83.411      0.000    5274.926    5528.793\n",
       "Vroom Audit Rating   1346.5925   1376.217      0.978      0.328   -1350.805    4043.990\n",
       "transmission        -2.423e+05   5057.762    -47.908      0.000   -2.52e+05   -2.32e+05\n",
       "door_count           4.006e+04   1734.493     23.098      0.000    3.67e+04    4.35e+04\n",
       "seat_count           4.006e+04   1734.493     23.098      0.000    3.67e+04    4.35e+04\n",
       "fuel_type           -8.955e+04   4433.162    -20.200      0.000   -9.82e+04   -8.09e+04\n",
       "audi                 6.647e+05   1.01e+04     65.557      0.000    6.45e+05    6.85e+05\n",
       "bmw                  3.656e+05   1.03e+04     35.389      0.000    3.45e+05    3.86e+05\n",
       "fiat                -5.794e+04   1.31e+04     -4.424      0.000   -8.36e+04   -3.23e+04\n",
       "hyundai             -2.328e+05   1.24e+04    -18.754      0.000   -2.57e+05   -2.08e+05\n",
       "maserati             5.449e+05   6.62e+04      8.230      0.000    4.15e+05    6.75e+05\n",
       "nissan              -4.142e+04   1.07e+04     -3.859      0.000   -6.25e+04   -2.04e+04\n",
       "skoda               -9.996e+04   9276.438    -10.775      0.000   -1.18e+05   -8.18e+04\n",
       "toyota               -1.41e+05   1.02e+04    -13.867      0.000   -1.61e+05   -1.21e+05\n",
       "==============================================================================\n",
       "Omnibus:                    60204.694   Durbin-Watson:                   1.988\n",
       "Prob(Omnibus):                  0.000   Jarque-Bera (JB):         33739484.330\n",
       "Skew:                           5.166   Prob(JB):                         0.00\n",
       "Kurtosis:                     125.574   Cond. No.                     5.93e+21\n",
       "==============================================================================\n",
       "\n",
       "Warnings:\n",
       "[1] Standard Errors assume that the covariance matrix of the errors is correctly specified.\n",
       "[2] The smallest eigenvalue is 1.27e-28. This might indicate that there are\n",
       "strong multicollinearity problems or that the design matrix is singular.\n",
       "\"\"\""
      ]
     },
     "execution_count": 436,
     "metadata": {},
     "output_type": "execute_result"
    }
   ],
   "source": [
    "import statsmodels.api as sm\n",
    "\n",
    "x_constant = sm.add_constant(X)\n",
    "base_model = sm.OLS(y, x_constant).fit()\n",
    "base_model.summary()"
   ]
  },
  {
   "cell_type": "markdown",
   "metadata": {},
   "source": [
    "We got a decent score of 71% for our base model.   \n",
    "And, we could see that Vroom audit rating feature is insignificant and Owner type feature is less signficant in presence\n",
    "of other variables for 95% confidence interval.      \n",
    "Let's see, if we could improve upon this score, using other models."
   ]
  },
  {
   "cell_type": "markdown",
   "metadata": {},
   "source": [
    "### Evaluation Metric"
   ]
  },
  {
   "cell_type": "markdown",
   "metadata": {},
   "source": [
    "The predicted Price for each car in the Test dataset will be compared with the actual Price to calculate the **RMSE** value of the entire prediction. The lower the RMSE value, the better the model will be."
   ]
  },
  {
   "cell_type": "markdown",
   "metadata": {},
   "source": [
    "### Linear Regression"
   ]
  },
  {
   "cell_type": "code",
   "execution_count": 437,
   "metadata": {},
   "outputs": [],
   "source": [
    "from sklearn.linear_model import LinearRegression\n",
    "\n",
    "lr = LinearRegression()\n",
    "lr_model = lr.fit(X_train, y_train)"
   ]
  },
  {
   "cell_type": "code",
   "execution_count": 438,
   "metadata": {},
   "outputs": [],
   "source": [
    "lr_predicted = lr.predict(X_test)"
   ]
  },
  {
   "cell_type": "code",
   "execution_count": 439,
   "metadata": {},
   "outputs": [
    {
     "data": {
      "text/plain": [
       "436369.63769722544"
      ]
     },
     "execution_count": 439,
     "metadata": {},
     "output_type": "execute_result"
    }
   ],
   "source": [
    "# evaluation\n",
    "from sklearn.metrics import mean_squared_error, accuracy_score\n",
    "\n",
    "rmse = np.sqrt(mean_squared_error(y_test, lr_predicted))\n",
    "rmse"
   ]
  },
  {
   "cell_type": "markdown",
   "metadata": {},
   "source": [
    "**RMSE for Linear regression** 436369.63769"
   ]
  },
  {
   "cell_type": "code",
   "execution_count": 441,
   "metadata": {},
   "outputs": [],
   "source": [
    "models = pd.DataFrame(lb.fit_transform(car_data1['model']), \n",
    "                      columns=model_cols)\n",
    "car_data1.drop('model', axis='columns', inplace=True)"
   ]
  },
  {
   "cell_type": "code",
   "execution_count": 442,
   "metadata": {},
   "outputs": [],
   "source": [
    "X1 = pd.concat([car_data1, models], axis='columns')\n",
    "X1 = car_data1.drop(['Location', 'Price'], axis='columns')"
   ]
  },
  {
   "cell_type": "code",
   "execution_count": 443,
   "metadata": {},
   "outputs": [
    {
     "data": {
      "text/plain": [
       "((40136, 18), (13379, 18), (40136,), (13379,))"
      ]
     },
     "execution_count": 443,
     "metadata": {},
     "output_type": "execute_result"
    }
   ],
   "source": [
    "X_train1, X_test1, y_train1, y_test1 = train_test_split(X1, y, test_size=0.25, random_state=42)\n",
    "X_train1.shape, X_test1.shape, y_train1.shape, y_test1.shape"
   ]
  },
  {
   "cell_type": "code",
   "execution_count": 444,
   "metadata": {},
   "outputs": [],
   "source": [
    "lr1 = LinearRegression()\n",
    "lr1_model = lr1.fit(X_train1, y_train1)"
   ]
  },
  {
   "cell_type": "code",
   "execution_count": 445,
   "metadata": {},
   "outputs": [],
   "source": [
    "lr1_predicted = lr1.predict(X_test1)"
   ]
  },
  {
   "cell_type": "code",
   "execution_count": 446,
   "metadata": {},
   "outputs": [
    {
     "data": {
      "text/plain": [
       "436369.63769722544"
      ]
     },
     "execution_count": 446,
     "metadata": {},
     "output_type": "execute_result"
    }
   ],
   "source": [
    "rmse = np.sqrt(mean_squared_error(y_test1, lr1_predicted))\n",
    "rmse"
   ]
  },
  {
   "cell_type": "markdown",
   "metadata": {},
   "source": [
    "#### Random Forest Regressor"
   ]
  },
  {
   "cell_type": "code",
   "execution_count": 447,
   "metadata": {},
   "outputs": [],
   "source": [
    "from sklearn.ensemble import RandomForestRegressor"
   ]
  },
  {
   "cell_type": "code",
   "execution_count": 448,
   "metadata": {},
   "outputs": [
    {
     "name": "stderr",
     "output_type": "stream",
     "text": [
      "C:\\Users\\gokul\\Anaconda3\\lib\\site-packages\\sklearn\\ensemble\\forest.py:245: FutureWarning: The default value of n_estimators will change from 10 in version 0.20 to 100 in 0.22.\n",
      "  \"10 in version 0.20 to 100 in 0.22.\", FutureWarning)\n"
     ]
    }
   ],
   "source": [
    "rf = RandomForestRegressor(random_state=42)\n",
    "rf_model = rf.fit(X_train, y_train)"
   ]
  },
  {
   "cell_type": "code",
   "execution_count": 449,
   "metadata": {},
   "outputs": [],
   "source": [
    "rf_predicted = rf.predict(X_test)"
   ]
  },
  {
   "cell_type": "code",
   "execution_count": 450,
   "metadata": {},
   "outputs": [
    {
     "data": {
      "text/plain": [
       "106296.37679748329"
      ]
     },
     "execution_count": 450,
     "metadata": {},
     "output_type": "execute_result"
    }
   ],
   "source": [
    "train_err = rf.predict(X_train)\n",
    "rmse = np.sqrt(mean_squared_error(y_train, train_err))\n",
    "rmse"
   ]
  },
  {
   "cell_type": "code",
   "execution_count": 451,
   "metadata": {},
   "outputs": [
    {
     "data": {
      "text/plain": [
       "231469.94310904856"
      ]
     },
     "execution_count": 451,
     "metadata": {},
     "output_type": "execute_result"
    }
   ],
   "source": [
    "rmse = np.sqrt(mean_squared_error(y_test, rf_predicted))\n",
    "rmse"
   ]
  },
  {
   "cell_type": "markdown",
   "metadata": {},
   "source": [
    "**RMSE for Randor Forest regression** 231469.943"
   ]
  },
  {
   "cell_type": "code",
   "execution_count": 466,
   "metadata": {},
   "outputs": [],
   "source": [
    "from sklearn.model_selection import RandomizedSearchCV"
   ]
  },
  {
   "cell_type": "code",
   "execution_count": null,
   "metadata": {},
   "outputs": [],
   "source": [
    "parameters = {}\n",
    "\n",
    "\n",
    "clf = RandomizedSearchCV(rf, parameters, n_jobs=-1, \n",
    "                   cv=5, \n",
    "                   scoring='accuracy',\n",
    "                   verbose=2)\n",
    "clf.fit(X_train, y_train)"
   ]
  },
  {
   "cell_type": "code",
   "execution_count": null,
   "metadata": {},
   "outputs": [],
   "source": [
    "rs = RandomizedSearchCV()"
   ]
  },
  {
   "cell_type": "code",
   "execution_count": 452,
   "metadata": {},
   "outputs": [],
   "source": [
    "rf1 = RandomForestRegressor(random_state=42)\n",
    "rf1_model = rf.fit(X_train1, y_train1)"
   ]
  },
  {
   "cell_type": "code",
   "execution_count": 453,
   "metadata": {},
   "outputs": [],
   "source": [
    "rf1_predicted = rf.predict(X_test1)"
   ]
  },
  {
   "cell_type": "code",
   "execution_count": 454,
   "metadata": {},
   "outputs": [
    {
     "data": {
      "text/plain": [
       "231469.94310904856"
      ]
     },
     "execution_count": 454,
     "metadata": {},
     "output_type": "execute_result"
    }
   ],
   "source": [
    "rmse = np.sqrt(mean_squared_error(y_test1, rf1_predicted))\n",
    "rmse"
   ]
  },
  {
   "cell_type": "code",
   "execution_count": null,
   "metadata": {},
   "outputs": [],
   "source": []
  },
  {
   "cell_type": "markdown",
   "metadata": {},
   "source": [
    "#### Gradient Boosting Regressor"
   ]
  },
  {
   "cell_type": "code",
   "execution_count": 455,
   "metadata": {},
   "outputs": [],
   "source": [
    "from sklearn.ensemble import GradientBoostingRegressor"
   ]
  },
  {
   "cell_type": "code",
   "execution_count": 456,
   "metadata": {},
   "outputs": [],
   "source": [
    "gb = GradientBoostingRegressor(random_state=42)\n",
    "gb_model = gb.fit(X_train, y_train)"
   ]
  },
  {
   "cell_type": "code",
   "execution_count": 457,
   "metadata": {},
   "outputs": [],
   "source": [
    "gb_predicted = gb.predict(X_test)"
   ]
  },
  {
   "cell_type": "code",
   "execution_count": 458,
   "metadata": {},
   "outputs": [
    {
     "data": {
      "text/plain": [
       "234477.9803151883"
      ]
     },
     "execution_count": 458,
     "metadata": {},
     "output_type": "execute_result"
    }
   ],
   "source": [
    "rmse = np.sqrt(mean_squared_error(y_test, gb_predicted))\n",
    "rmse"
   ]
  },
  {
   "cell_type": "markdown",
   "metadata": {},
   "source": [
    "**RMSE for Gradient Boosting regressor** 231469.943"
   ]
  },
  {
   "cell_type": "markdown",
   "metadata": {},
   "source": [
    "#### XG Boost Regressor"
   ]
  },
  {
   "cell_type": "code",
   "execution_count": 459,
   "metadata": {},
   "outputs": [],
   "source": [
    "from xgboost import XGBRegressor"
   ]
  },
  {
   "cell_type": "code",
   "execution_count": 460,
   "metadata": {
    "scrolled": true
   },
   "outputs": [
    {
     "name": "stderr",
     "output_type": "stream",
     "text": [
      "C:\\Users\\gokul\\Anaconda3\\lib\\site-packages\\xgboost\\core.py:587: FutureWarning: Series.base is deprecated and will be removed in a future version\n",
      "  if getattr(data, 'base', None) is not None and \\\n"
     ]
    },
    {
     "name": "stdout",
     "output_type": "stream",
     "text": [
      "[13:14:40] WARNING: C:/Jenkins/workspace/xgboost-win64_release_0.90/src/objective/regression_obj.cu:152: reg:linear is now deprecated in favor of reg:squarederror.\n"
     ]
    },
    {
     "data": {
      "text/plain": [
       "XGBRegressor(base_score=0.5, booster='gbtree', colsample_bylevel=1,\n",
       "             colsample_bynode=1, colsample_bytree=1, gamma=0,\n",
       "             importance_type='gain', learning_rate=0.1, max_delta_step=0,\n",
       "             max_depth=3, min_child_weight=1, missing=None, n_estimators=100,\n",
       "             n_jobs=1, nthread=None, objective='reg:linear', random_state=42,\n",
       "             reg_alpha=0, reg_lambda=1, scale_pos_weight=1, seed=None,\n",
       "             silent=None, subsample=1, verbosity=1)"
      ]
     },
     "execution_count": 460,
     "metadata": {},
     "output_type": "execute_result"
    }
   ],
   "source": [
    "xgr = XGBRegressor(random_state=42)\n",
    "xgr.fit(X_train, y_train)"
   ]
  },
  {
   "cell_type": "code",
   "execution_count": 461,
   "metadata": {},
   "outputs": [],
   "source": [
    "xgb_predicted = xgr.predict(X_test)"
   ]
  },
  {
   "cell_type": "code",
   "execution_count": 462,
   "metadata": {},
   "outputs": [
    {
     "data": {
      "text/plain": [
       "235703.07785217572"
      ]
     },
     "execution_count": 462,
     "metadata": {},
     "output_type": "execute_result"
    }
   ],
   "source": [
    "rmse = np.sqrt(mean_squared_error(y_test, xgb_predicted))\n",
    "rmse"
   ]
  },
  {
   "cell_type": "markdown",
   "metadata": {},
   "source": [
    "**RMSE for XG Boost regressor** 231469.943"
   ]
  },
  {
   "cell_type": "code",
   "execution_count": null,
   "metadata": {},
   "outputs": [],
   "source": []
  },
  {
   "cell_type": "code",
   "execution_count": null,
   "metadata": {},
   "outputs": [],
   "source": []
  },
  {
   "cell_type": "code",
   "execution_count": null,
   "metadata": {},
   "outputs": [],
   "source": []
  },
  {
   "cell_type": "code",
   "execution_count": null,
   "metadata": {},
   "outputs": [],
   "source": []
  },
  {
   "cell_type": "markdown",
   "metadata": {},
   "source": [
    "### Test data prediction"
   ]
  },
  {
   "cell_type": "code",
   "execution_count": 464,
   "metadata": {},
   "outputs": [],
   "source": [
    "testing_data = pd.read_csv(r'Test Data Set.csv')"
   ]
  },
  {
   "cell_type": "code",
   "execution_count": 469,
   "metadata": {},
   "outputs": [],
   "source": [
    "testing_data = testing_data.drop(['body_type', 'Id', 'manufacture_year'], axis='columns')"
   ]
  },
  {
   "cell_type": "code",
   "execution_count": 470,
   "metadata": {},
   "outputs": [],
   "source": [
    "pdist_median = np.median(testing_data[~testing_data['Distance '].isnull()]['Distance '])\n",
    "testing_data['Distance '].fillna(pdist_median, inplace=True)\n",
    "testing_data['Distance '] = testing_data['Distance '].astype('float')"
   ]
  },
  {
   "cell_type": "code",
   "execution_count": 471,
   "metadata": {},
   "outputs": [],
   "source": [
    "pqwr_median = np.median(testing_data[~testing_data['engine_power'].isnull()]['engine_power'])\n",
    "testing_data['engine_power'].fillna(pqwr_median, inplace=True)"
   ]
  },
  {
   "cell_type": "code",
   "execution_count": 472,
   "metadata": {},
   "outputs": [],
   "source": [
    "testing_data['transmission'] = lb.fit_transform(testing_data['transmission'])\n",
    "testing_data['fuel_type'] = lb.fit_transform(testing_data['fuel_type'])"
   ]
  },
  {
   "cell_type": "code",
   "execution_count": 473,
   "metadata": {},
   "outputs": [],
   "source": [
    "testing_data['seat_count'] = testing_data['seat_count'].replace('None', 4)\n",
    "testing_data['door_count'] = testing_data['door_count'].replace('None', 4)\n",
    "testing_data['seat_count'] = testing_data['seat_count'].astype('int64')\n",
    "testing_data['door_count'] = testing_data['seat_count'].astype('int64')"
   ]
  },
  {
   "cell_type": "code",
   "execution_count": 474,
   "metadata": {},
   "outputs": [],
   "source": [
    "dic = {'Second':2, 'Third':3, 'Fourth & Above':4, 'First':1}\n",
    "testing_data['Owner Type'] = testing_data['Owner Type'].replace(dic)\n",
    "testing_data['Owner Type'] = testing_data['Owner Type'].astype('int64')"
   ]
  },
  {
   "cell_type": "code",
   "execution_count": 475,
   "metadata": {},
   "outputs": [],
   "source": [
    "makers = pd.DataFrame(lb.fit_transform(testing_data['Maker']), \n",
    "                      columns=['audi', 'bmw', 'fiat', 'hyundai', 'maserati', 'nissan', 'skoda', 'toyota'])"
   ]
  },
  {
   "cell_type": "code",
   "execution_count": 476,
   "metadata": {},
   "outputs": [],
   "source": [
    "testing_data.drop('Maker', axis='columns', inplace=True)\n",
    "testing_data = pd.concat([testing_data, makers], axis='columns')\n"
   ]
  },
  {
   "cell_type": "code",
   "execution_count": 479,
   "metadata": {},
   "outputs": [],
   "source": [
    "X_train_tst = testing_data.drop(['model', 'Location'], axis='columns')"
   ]
  },
  {
   "cell_type": "code",
   "execution_count": 481,
   "metadata": {},
   "outputs": [],
   "source": [
    "pr = rf.predict(X_train_tst)"
   ]
  },
  {
   "cell_type": "code",
   "execution_count": 482,
   "metadata": {},
   "outputs": [],
   "source": [
    "np.savetxt('result.csv', pr, delimiter=',')"
   ]
  },
  {
   "cell_type": "code",
   "execution_count": null,
   "metadata": {},
   "outputs": [],
   "source": []
  }
 ],
 "metadata": {
  "kernelspec": {
   "display_name": "Python 3",
   "language": "python",
   "name": "python3"
  },
  "language_info": {
   "codemirror_mode": {
    "name": "ipython",
    "version": 3
   },
   "file_extension": ".py",
   "mimetype": "text/x-python",
   "name": "python",
   "nbconvert_exporter": "python",
   "pygments_lexer": "ipython3",
   "version": "3.7.5"
  }
 },
 "nbformat": 4,
 "nbformat_minor": 2
}
